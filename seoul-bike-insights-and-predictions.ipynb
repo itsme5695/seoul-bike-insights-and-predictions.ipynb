{
 "metadata": {
  "kernelspec": {
   "language": "python",
   "display_name": "Python 3",
   "name": "python3"
  },
  "language_info": {
   "name": "python",
   "version": "3.10.12",
   "mimetype": "text/x-python",
   "codemirror_mode": {
    "name": "ipython",
    "version": 3
   },
   "pygments_lexer": "ipython3",
   "nbconvert_exporter": "python",
   "file_extension": ".py"
  },
  "kaggle": {
   "accelerator": "none",
   "dataSources": [
    {
     "sourceId": 3113861,
     "sourceType": "datasetVersion",
     "datasetId": 1182717
    }
   ],
   "dockerImageVersionId": 30558,
   "isInternetEnabled": false,
   "language": "python",
   "sourceType": "notebook",
   "isGpuEnabled": false
  }
 },
 "nbformat_minor": 4,
 "nbformat": 4,
 "cells": [
  {
   "cell_type": "markdown",
   "source": [
    "## **1. Loading libraries and data**"
   ],
   "metadata": {}
  },
  {
   "cell_type": "code",
   "source": [
    "import os\n",
    "for dirname, _, filenames in os.walk('/kaggle/input'):\n",
    "    for filename in filenames:\n",
    "        print(os.path.join(dirname, filename))"
   ],
   "metadata": {
    "_uuid": "8f2839f25d086af736a60e9eeb907d3b93b6e0e5",
    "_cell_guid": "b1076dfc-b9ad-4769-8c92-a6c4dae69d19",
    "execution": {
     "iopub.status.busy": "2024-03-12T08:02:44.725046Z",
     "iopub.execute_input": "2024-03-12T08:02:44.725607Z",
     "iopub.status.idle": "2024-03-12T08:02:44.735785Z",
     "shell.execute_reply.started": "2024-03-12T08:02:44.725560Z",
     "shell.execute_reply": "2024-03-12T08:02:44.734742Z"
    },
    "trusted": true,
    "ExecuteTime": {
     "end_time": "2024-03-12T08:52:35.807514Z",
     "start_time": "2024-03-12T08:52:35.803369Z"
    }
   },
   "execution_count": 3,
   "outputs": []
  },
  {
   "cell_type": "code",
   "source": [
    "import numpy as np \n",
    "import pandas as pd\n",
    "import matplotlib.pyplot as plt\n",
    "import seaborn as sns\n",
    "\n",
    "from sklearn.preprocessing import StandardScaler\n",
    "\n",
    "from sklearn.model_selection import train_test_split\n",
    "from sklearn.model_selection import GridSearchCV\n",
    "\n",
    "from sklearn.linear_model import LinearRegression, Lasso, Ridge\n",
    "from xgboost import XGBRegressor\n",
    "from sklearn.ensemble import RandomForestRegressor\n",
    "\n",
    "from sklearn.metrics import mean_squared_error, mean_absolute_error, r2_score\n",
    "\n",
    "pd.set_option('display.max_columns',200)\n",
    "np.random.seed(24)"
   ],
   "metadata": {
    "execution": {
     "iopub.status.busy": "2024-03-12T08:02:48.244985Z",
     "iopub.execute_input": "2024-03-12T08:02:48.245502Z",
     "iopub.status.idle": "2024-03-12T08:02:50.361250Z",
     "shell.execute_reply.started": "2024-03-12T08:02:48.245463Z",
     "shell.execute_reply": "2024-03-12T08:02:50.360208Z"
    },
    "trusted": true,
    "ExecuteTime": {
     "end_time": "2024-03-12T09:04:38.832685Z",
     "start_time": "2024-03-12T09:04:38.823075Z"
    }
   },
   "execution_count": 8,
   "outputs": []
  },
  {
   "cell_type": "code",
   "source": [
    "df = pd.read_csv(\n",
    "    \"/kaggle/input/seoul-bike-trip-duration-prediction/For_modeling.csv\",\n",
    "    dtype={\n",
    "        'Duration' : 'int8',\n",
    "        'Distance' : 'int8',\n",
    "        'PLong' : 'float32',\n",
    "        'PLatd' : 'float32',\n",
    "        'DLong' : 'float32',\n",
    "        'DLatd' : 'float32',\n",
    "        'Haversine' : 'float32',\n",
    "        'Pmonth' : 'int8',\n",
    "        'Pday' : 'int8',\n",
    "        'Phour' : 'int8',\n",
    "        'Pmin' : 'int8',\n",
    "        'PDweek' : 'int8',\n",
    "        'Dmonth' : 'int8',\n",
    "        'Dday' : 'int8',\n",
    "        'Dhour' : 'int8',\n",
    "        'Dmin' : 'int8',\n",
    "        'DDweek' : 'int8',\n",
    "        'Temp' : 'float32',\n",
    "        'Precip' : 'float32',\n",
    "        'Wind' : 'float32',\n",
    "        'Humid' : 'float32',\n",
    "        'Solar' : 'float32',\n",
    "        'Snow' : 'float32',\n",
    "        'GroundTemp' : 'float32',\n",
    "        'Dust' : 'float32'\n",
    "    },\n",
    "    index_col=0\n",
    ").sample(frac=1)\n",
    "df.head()"
   ],
   "metadata": {
    "execution": {
     "iopub.status.busy": "2024-03-12T08:02:54.856273Z",
     "iopub.execute_input": "2024-03-12T08:02:54.856998Z",
     "iopub.status.idle": "2024-03-12T08:03:37.340291Z",
     "shell.execute_reply.started": "2024-03-12T08:02:54.856952Z",
     "shell.execute_reply": "2024-03-12T08:03:37.339477Z"
    },
    "trusted": true,
    "ExecuteTime": {
     "start_time": "2024-03-12T08:51:55.368154Z"
    }
   },
   "execution_count": null,
   "outputs": []
  },
  {
   "cell_type": "code",
   "source": [
    "df.shape"
   ],
   "metadata": {
    "execution": {
     "iopub.status.busy": "2024-03-12T08:03:55.004661Z",
     "iopub.execute_input": "2024-03-12T08:03:55.005041Z",
     "iopub.status.idle": "2024-03-12T08:03:55.011883Z",
     "shell.execute_reply.started": "2024-03-12T08:03:55.005012Z",
     "shell.execute_reply": "2024-03-12T08:03:55.010549Z"
    },
    "trusted": true,
    "ExecuteTime": {
     "start_time": "2024-03-12T08:51:55.369490Z"
    }
   },
   "execution_count": null,
   "outputs": []
  },
  {
   "cell_type": "code",
   "source": [
    "df.info()"
   ],
   "metadata": {
    "execution": {
     "iopub.status.busy": "2024-03-12T08:03:59.587451Z",
     "iopub.execute_input": "2024-03-12T08:03:59.587858Z",
     "iopub.status.idle": "2024-03-12T08:03:59.611264Z",
     "shell.execute_reply.started": "2024-03-12T08:03:59.587825Z",
     "shell.execute_reply": "2024-03-12T08:03:59.610433Z"
    },
    "trusted": true
   },
   "execution_count": null,
   "outputs": []
  },
  {
   "cell_type": "markdown",
   "source": [
    "## **2. Exploratory Data Analysis**"
   ],
   "metadata": {}
  },
  {
   "cell_type": "code",
   "source": [
    "df.columns"
   ],
   "metadata": {
    "execution": {
     "iopub.status.busy": "2024-03-12T08:04:38.017453Z",
     "iopub.execute_input": "2024-03-12T08:04:38.017919Z",
     "iopub.status.idle": "2024-03-12T08:04:38.025759Z",
     "shell.execute_reply.started": "2024-03-12T08:04:38.017881Z",
     "shell.execute_reply": "2024-03-12T08:04:38.024689Z"
    },
    "trusted": true,
    "ExecuteTime": {
     "start_time": "2024-03-12T08:51:55.372893Z"
    }
   },
   "execution_count": null,
   "outputs": []
  },
  {
   "cell_type": "code",
   "source": [
    "df.describe()"
   ],
   "metadata": {
    "execution": {
     "iopub.status.busy": "2024-03-12T08:04:45.162403Z",
     "iopub.execute_input": "2024-03-12T08:04:45.162803Z",
     "iopub.status.idle": "2024-03-12T08:04:54.341883Z",
     "shell.execute_reply.started": "2024-03-12T08:04:45.162770Z",
     "shell.execute_reply": "2024-03-12T08:04:54.340485Z"
    },
    "trusted": true,
    "ExecuteTime": {
     "start_time": "2024-03-12T08:51:55.373890Z"
    }
   },
   "execution_count": null,
   "outputs": []
  },
  {
   "cell_type": "markdown",
   "source": [
    "**Observations:**\n",
    "1. Distance: there are data points where the distance value is negatice (-ve)\n",
    "2. Haversine: there are data points where the haversine value is 0. "
   ],
   "metadata": {}
  },
  {
   "cell_type": "markdown",
   "source": [
    "**Observation analysis 1. Distance**  \n",
    "Exploring the data points where the distance is negative."
   ],
   "metadata": {}
  },
  {
   "cell_type": "code",
   "source": [
    "df.shape"
   ],
   "metadata": {
    "execution": {
     "iopub.status.busy": "2024-03-12T08:09:56.049073Z",
     "iopub.execute_input": "2024-03-12T08:09:56.050062Z",
     "iopub.status.idle": "2024-03-12T08:09:56.056211Z",
     "shell.execute_reply.started": "2024-03-12T08:09:56.050022Z",
     "shell.execute_reply": "2024-03-12T08:09:56.055083Z"
    },
    "trusted": true,
    "ExecuteTime": {
     "start_time": "2024-03-12T08:51:55.376261Z"
    }
   },
   "execution_count": null,
   "outputs": []
  },
  {
   "cell_type": "code",
   "source": [
    "df[df['Distance']<0].shape"
   ],
   "metadata": {
    "execution": {
     "iopub.status.busy": "2024-03-12T08:09:58.551571Z",
     "iopub.execute_input": "2024-03-12T08:09:58.552069Z",
     "iopub.status.idle": "2024-03-12T08:09:59.032034Z",
     "shell.execute_reply.started": "2024-03-12T08:09:58.552030Z",
     "shell.execute_reply": "2024-03-12T08:09:59.030555Z"
    },
    "trusted": true,
    "ExecuteTime": {
     "start_time": "2024-03-12T08:51:55.378406Z"
    }
   },
   "execution_count": null,
   "outputs": []
  },
  {
   "cell_type": "code",
   "source": [
    "df[df['Distance']<0].head()"
   ],
   "metadata": {
    "execution": {
     "iopub.status.busy": "2024-03-12T08:10:02.006223Z",
     "iopub.execute_input": "2024-03-12T08:10:02.007813Z",
     "iopub.status.idle": "2024-03-12T08:10:02.508454Z",
     "shell.execute_reply.started": "2024-03-12T08:10:02.007762Z",
     "shell.execute_reply": "2024-03-12T08:10:02.507130Z"
    },
    "trusted": true,
    "ExecuteTime": {
     "start_time": "2024-03-12T08:51:55.379700Z"
    }
   },
   "execution_count": null,
   "outputs": []
  },
  {
   "cell_type": "code",
   "source": [
    "# transforming all the -ve distance to +ve distance\n",
    "df['Distance'] = df['Distance'].apply(lambda x: abs(x))"
   ],
   "metadata": {
    "execution": {
     "iopub.status.busy": "2024-03-12T08:10:12.698878Z",
     "iopub.execute_input": "2024-03-12T08:10:12.699383Z",
     "iopub.status.idle": "2024-03-12T08:10:17.025112Z",
     "shell.execute_reply.started": "2024-03-12T08:10:12.699326Z",
     "shell.execute_reply": "2024-03-12T08:10:17.023836Z"
    },
    "trusted": true,
    "ExecuteTime": {
     "start_time": "2024-03-12T08:51:55.382543Z"
    }
   },
   "execution_count": null,
   "outputs": []
  },
  {
   "cell_type": "code",
   "source": [
    "df[df['Distance']<0].shape"
   ],
   "metadata": {
    "execution": {
     "iopub.status.busy": "2024-03-12T08:10:19.834596Z",
     "iopub.execute_input": "2024-03-12T08:10:19.835054Z",
     "iopub.status.idle": "2024-03-12T08:10:19.858716Z",
     "shell.execute_reply.started": "2024-03-12T08:10:19.835014Z",
     "shell.execute_reply": "2024-03-12T08:10:19.857921Z"
    },
    "trusted": true,
    "ExecuteTime": {
     "start_time": "2024-03-12T08:51:55.384030Z"
    }
   },
   "execution_count": null,
   "outputs": []
  },
  {
   "cell_type": "markdown",
   "source": [
    "**Observation analysis 2. haversine**    \n",
    "Exploring the data points where the haversine value is 0.   \n",
    "It should mean that pick up and drop off location (longitude and latitude) are the same."
   ],
   "metadata": {
    "execution": {
     "iopub.status.busy": "2023-10-20T17:46:07.835289Z",
     "iopub.execute_input": "2023-10-20T17:46:07.835676Z",
     "iopub.status.idle": "2023-10-20T17:46:07.843139Z",
     "shell.execute_reply.started": "2023-10-20T17:46:07.835647Z",
     "shell.execute_reply": "2023-10-20T17:46:07.842272Z"
    }
   }
  },
  {
   "cell_type": "code",
   "source": [
    "df.shape"
   ],
   "metadata": {
    "execution": {
     "iopub.status.busy": "2024-03-12T08:11:23.229258Z",
     "iopub.execute_input": "2024-03-12T08:11:23.230462Z",
     "iopub.status.idle": "2024-03-12T08:11:23.237817Z",
     "shell.execute_reply.started": "2024-03-12T08:11:23.230413Z",
     "shell.execute_reply": "2024-03-12T08:11:23.236683Z"
    },
    "trusted": true
   },
   "execution_count": null,
   "outputs": []
  },
  {
   "cell_type": "code",
   "source": [
    "df[df['Haversine']==0].shape"
   ],
   "metadata": {
    "execution": {
     "iopub.status.busy": "2024-03-12T08:11:26.405724Z",
     "iopub.execute_input": "2024-03-12T08:11:26.406112Z",
     "iopub.status.idle": "2024-03-12T08:11:26.600575Z",
     "shell.execute_reply.started": "2024-03-12T08:11:26.406082Z",
     "shell.execute_reply": "2024-03-12T08:11:26.599376Z"
    },
    "trusted": true,
    "ExecuteTime": {
     "start_time": "2024-03-12T08:51:55.391063Z"
    }
   },
   "execution_count": null,
   "outputs": []
  },
  {
   "cell_type": "code",
   "source": [
    "df[df['Haversine']==0].reset_index().drop(columns=['index']).head()"
   ],
   "metadata": {
    "execution": {
     "iopub.status.busy": "2024-03-12T08:11:35.011622Z",
     "iopub.execute_input": "2024-03-12T08:11:35.012130Z",
     "iopub.status.idle": "2024-03-12T08:11:35.313139Z",
     "shell.execute_reply.started": "2024-03-12T08:11:35.012090Z",
     "shell.execute_reply": "2024-03-12T08:11:35.311565Z"
    },
    "trusted": true
   },
   "execution_count": null,
   "outputs": []
  },
  {
   "cell_type": "code",
   "source": [
    "df[df['Haversine']==0].reset_index().drop(columns=['index']).describe()"
   ],
   "metadata": {
    "execution": {
     "iopub.status.busy": "2024-03-12T08:13:55.695897Z",
     "iopub.execute_input": "2024-03-12T08:13:55.696415Z",
     "iopub.status.idle": "2024-03-12T08:13:56.969547Z",
     "shell.execute_reply.started": "2024-03-12T08:13:55.696341Z",
     "shell.execute_reply": "2024-03-12T08:13:56.968429Z"
    },
    "trusted": true,
    "ExecuteTime": {
     "start_time": "2024-03-12T08:51:55.394381Z"
    }
   },
   "execution_count": null,
   "outputs": []
  },
  {
   "cell_type": "markdown",
   "source": [
    "- Despite having a haversine distance of 0, indicating that the pick-up and drop-off locations are identical, the duration of trips exhibits a minimum value of 2 minutes and a maximum value of 119 minutes. \n",
    "- This suggests that bicycles may have traveled round-trip journeys, returning to the pick-up location after visiting other destinations. \n",
    "- The removal of such data points could potentially impact the performance of the model. However we dont have any additional info about round trips. Hence we can remove them for the time being. \n",
    "\n",
    "- **NOTE**: In future we can add new feature to record the round trips or better an new long,latd coumns to record the co-ordinates of the midpoint of the entire journey. Which will help us in confirming about round trips."
   ],
   "metadata": {}
  },
  {
   "cell_type": "code",
   "source": [
    "df[df['Distance']==0].shape"
   ],
   "metadata": {
    "execution": {
     "iopub.status.busy": "2024-03-12T08:17:51.311201Z",
     "iopub.execute_input": "2024-03-12T08:17:51.311999Z",
     "iopub.status.idle": "2024-03-12T08:17:51.369071Z",
     "shell.execute_reply.started": "2024-03-12T08:17:51.311904Z",
     "shell.execute_reply": "2024-03-12T08:17:51.367905Z"
    },
    "trusted": true
   },
   "execution_count": null,
   "outputs": []
  },
  {
   "cell_type": "code",
   "source": [
    "df[df['Distance']==0].head()"
   ],
   "metadata": {
    "execution": {
     "iopub.status.busy": "2024-03-12T08:17:55.606274Z",
     "iopub.execute_input": "2024-03-12T08:17:55.606792Z",
     "iopub.status.idle": "2024-03-12T08:17:55.695412Z",
     "shell.execute_reply.started": "2024-03-12T08:17:55.606747Z",
     "shell.execute_reply": "2024-03-12T08:17:55.693728Z"
    },
    "trusted": true,
    "ExecuteTime": {
     "start_time": "2024-03-12T08:51:55.397860Z"
    }
   },
   "execution_count": null,
   "outputs": []
  },
  {
   "cell_type": "code",
   "source": [
    "filtered_df = df.loc[(df['Distance'] == 0) &\n",
    "                      (df['Haversine'] == 0) &\n",
    "                      (df['Pmonth'] == df['Dmonth']) &\n",
    "                      (df['Pday'] == df['Dday']) &\n",
    "                      (df['Phour'] == df['Dhour']) &\n",
    "                      (df['Pmin'] == df['Dmin']) &\n",
    "                      (df['PDweek'] == df['DDweek'])]\n",
    "\n",
    "# Print the filtered DataFrame\n",
    "filtered_df"
   ],
   "metadata": {
    "execution": {
     "iopub.status.busy": "2024-03-12T08:18:20.171485Z",
     "iopub.execute_input": "2024-03-12T08:18:20.171899Z",
     "iopub.status.idle": "2024-03-12T08:18:20.323213Z",
     "shell.execute_reply.started": "2024-03-12T08:18:20.171869Z",
     "shell.execute_reply": "2024-03-12T08:18:20.322248Z"
    },
    "trusted": true
   },
   "execution_count": null,
   "outputs": []
  },
  {
   "cell_type": "code",
   "source": [
    "filtered_df.shape"
   ],
   "metadata": {
    "execution": {
     "iopub.status.busy": "2024-03-12T08:22:10.029777Z",
     "iopub.execute_input": "2024-03-12T08:22:10.030220Z",
     "iopub.status.idle": "2024-03-12T08:22:10.039883Z",
     "shell.execute_reply.started": "2024-03-12T08:22:10.030188Z",
     "shell.execute_reply": "2024-03-12T08:22:10.038367Z"
    },
    "trusted": true
   },
   "execution_count": null,
   "outputs": []
  },
  {
   "cell_type": "markdown",
   "source": [
    "If both the Haversine distance and the actual distance are 0, then it is likely that the bicycle has not moved at all. This could be due to a number of reasons, such as:\n",
    "\n",
    "- The bicycle was parked for the entire duration of the trip.\n",
    "- The bicycle was moved a very short distance, but not enough to register on the GPS device.\n",
    "- There was an error in the GPS data.\n",
    "\n",
    "Removing these data points would be good for having better model performance"
   ],
   "metadata": {}
  },
  {
   "cell_type": "code",
   "source": [
    "df = df.drop(filtered_df.index)"
   ],
   "metadata": {
    "execution": {
     "iopub.status.busy": "2024-03-12T08:22:54.777973Z",
     "iopub.execute_input": "2024-03-12T08:22:54.778405Z",
     "iopub.status.idle": "2024-03-12T08:22:57.777988Z",
     "shell.execute_reply.started": "2024-03-12T08:22:54.778371Z",
     "shell.execute_reply": "2024-03-12T08:22:57.777002Z"
    },
    "trusted": true,
    "ExecuteTime": {
     "start_time": "2024-03-12T08:51:55.405963Z"
    }
   },
   "execution_count": null,
   "outputs": []
  },
  {
   "cell_type": "code",
   "source": [
    "filtered_df_H0 = df.loc[df['Haversine']==0]\n",
    "df = df.drop(filtered_df_H0.index)"
   ],
   "metadata": {
    "execution": {
     "iopub.status.busy": "2024-03-12T08:23:02.989466Z",
     "iopub.execute_input": "2024-03-12T08:23:02.990503Z",
     "iopub.status.idle": "2024-03-12T08:23:06.170819Z",
     "shell.execute_reply.started": "2024-03-12T08:23:02.990460Z",
     "shell.execute_reply": "2024-03-12T08:23:06.169742Z"
    },
    "trusted": true
   },
   "execution_count": null,
   "outputs": []
  },
  {
   "cell_type": "code",
   "source": [
    "df.shape"
   ],
   "metadata": {
    "execution": {
     "iopub.status.busy": "2024-03-12T08:23:14.867172Z",
     "iopub.execute_input": "2024-03-12T08:23:14.867623Z",
     "iopub.status.idle": "2024-03-12T08:23:14.875431Z",
     "shell.execute_reply.started": "2024-03-12T08:23:14.867590Z",
     "shell.execute_reply": "2024-03-12T08:23:14.874222Z"
    },
    "trusted": true
   },
   "execution_count": null,
   "outputs": []
  },
  {
   "cell_type": "code",
   "source": [
    "filtered_df1 = df.loc[(df['Distance'] == 0) & (df['Haversine'] == 0)]\n",
    "filtered_df1.shape"
   ],
   "metadata": {
    "execution": {
     "iopub.status.busy": "2024-03-12T08:23:23.141006Z",
     "iopub.execute_input": "2024-03-12T08:23:23.142653Z",
     "iopub.status.idle": "2024-03-12T08:23:23.189155Z",
     "shell.execute_reply.started": "2024-03-12T08:23:23.142582Z",
     "shell.execute_reply": "2024-03-12T08:23:23.187872Z"
    },
    "trusted": true,
    "ExecuteTime": {
     "start_time": "2024-03-12T08:51:55.411338Z"
    }
   },
   "execution_count": null,
   "outputs": []
  },
  {
   "cell_type": "code",
   "source": [
    "num_vars = ['Duration', 'Distance', 'Haversine','Temp','Precip', 'Wind', 'Humid', 'Solar', 'Snow','GroundTemp', 'Dust'] \n",
    "\n",
    "fig, axes = plt.subplots(nrows=3,ncols=4) # create figure and axes\n",
    "\n",
    "axes = axes.flatten() # Flatten the axes array for easy iteration\n",
    "\n",
    "for i,col in enumerate(num_vars):\n",
    "    ax = axes[i]\n",
    "    box = ax.boxplot(df[col], patch_artist=True)\n",
    "    box['boxes'][0].set_facecolor('#7BFB74')\n",
    "    ax.set_xticklabels([])\n",
    "    ax.set_title(col)\n",
    "    ax.yaxis.grid(True)\n",
    "\n",
    "fig.set_size_inches(18.5,14)\n",
    "plt.tight_layout()\n",
    "plt.show()"
   ],
   "metadata": {
    "execution": {
     "iopub.status.busy": "2024-03-12T08:23:29.610739Z",
     "iopub.execute_input": "2024-03-12T08:23:29.611173Z",
     "iopub.status.idle": "2024-03-12T08:23:38.308003Z",
     "shell.execute_reply.started": "2024-03-12T08:23:29.611145Z",
     "shell.execute_reply": "2024-03-12T08:23:38.306966Z"
    },
    "trusted": true,
    "ExecuteTime": {
     "start_time": "2024-03-12T08:51:55.413578Z"
    }
   },
   "execution_count": null,
   "outputs": []
  },
  {
   "cell_type": "code",
   "source": [
    "fig, ax = plt.subplots(figsize=(12, 6))\n",
    "sns.boxplot(\n",
    "    data=df.select_dtypes(include=[np.number]),\n",
    "    ax=ax\n",
    ")\n",
    "plt.xticks(rotation=45)\n",
    "plt.show()"
   ],
   "metadata": {
    "execution": {
     "iopub.status.busy": "2024-03-12T08:24:21.046496Z",
     "iopub.execute_input": "2024-03-12T08:24:21.046978Z",
     "iopub.status.idle": "2024-03-12T08:24:41.665020Z",
     "shell.execute_reply.started": "2024-03-12T08:24:21.046938Z",
     "shell.execute_reply": "2024-03-12T08:24:41.663052Z"
    },
    "trusted": true,
    "ExecuteTime": {
     "start_time": "2024-03-12T08:51:55.415832Z"
    }
   },
   "execution_count": null,
   "outputs": []
  },
  {
   "cell_type": "code",
   "source": [
    "# Total pick ups every months in a year\n",
    "pivot_table1 = df.pivot_table(index='Pmonth', aggfunc={'Pmonth': 'count'})\n",
    "\n",
    "month_map ={1:'Jan', 2:'Feb', 3:'Mar', 4:'Apr', 5:'May', 6:'Jun', 7:'Jul', 8:'Aug', 9:'Sep', 10:'Oct', 11:'Nov', 12:'Dec'}\n",
    "pivot_table1.index = pivot_table1.index.map(month_map)\n",
    "\n",
    "# Get the pick-up months and trip counts\n",
    "pick_up_months = pivot_table1.index.to_numpy()\n",
    "trips_count = pivot_table1['Pmonth'].to_numpy()\n",
    "\n",
    "plt.figure(figsize=(10,6))\n",
    "sns.barplot(x=pick_up_months,y=trips_count)\n",
    "plt.xlabel(\"Months\")\n",
    "plt.ylabel(\"Counts\")\n",
    "plt.title(\"Total pick ups every months in a year\")\n",
    "plt.show()"
   ],
   "metadata": {
    "execution": {
     "iopub.status.busy": "2024-03-12T08:26:04.453616Z",
     "iopub.execute_input": "2024-03-12T08:26:04.455645Z",
     "iopub.status.idle": "2024-03-12T08:26:05.016708Z",
     "shell.execute_reply.started": "2024-03-12T08:26:04.455593Z",
     "shell.execute_reply": "2024-03-12T08:26:05.015065Z"
    },
    "trusted": true,
    "ExecuteTime": {
     "end_time": "2024-03-12T09:04:47.580576Z",
     "start_time": "2024-03-12T09:04:47.524588Z"
    }
   },
   "execution_count": 9,
   "outputs": [
    {
     "ename": "NameError",
     "evalue": "name 'df' is not defined",
     "output_type": "error",
     "traceback": [
      "\u001B[1;31m---------------------------------------------------------------------------\u001B[0m",
      "\u001B[1;31mNameError\u001B[0m                                 Traceback (most recent call last)",
      "Cell \u001B[1;32mIn[9], line 2\u001B[0m\n\u001B[0;32m      1\u001B[0m \u001B[38;5;66;03m# Total pick ups every months in a year\u001B[39;00m\n\u001B[1;32m----> 2\u001B[0m pivot_table1 \u001B[38;5;241m=\u001B[39m \u001B[43mdf\u001B[49m\u001B[38;5;241m.\u001B[39mpivot_table(index\u001B[38;5;241m=\u001B[39m\u001B[38;5;124m'\u001B[39m\u001B[38;5;124mPmonth\u001B[39m\u001B[38;5;124m'\u001B[39m, aggfunc\u001B[38;5;241m=\u001B[39m{\u001B[38;5;124m'\u001B[39m\u001B[38;5;124mPmonth\u001B[39m\u001B[38;5;124m'\u001B[39m: \u001B[38;5;124m'\u001B[39m\u001B[38;5;124mcount\u001B[39m\u001B[38;5;124m'\u001B[39m})\n\u001B[0;32m      4\u001B[0m month_map \u001B[38;5;241m=\u001B[39m{\u001B[38;5;241m1\u001B[39m:\u001B[38;5;124m'\u001B[39m\u001B[38;5;124mJan\u001B[39m\u001B[38;5;124m'\u001B[39m, \u001B[38;5;241m2\u001B[39m:\u001B[38;5;124m'\u001B[39m\u001B[38;5;124mFeb\u001B[39m\u001B[38;5;124m'\u001B[39m, \u001B[38;5;241m3\u001B[39m:\u001B[38;5;124m'\u001B[39m\u001B[38;5;124mMar\u001B[39m\u001B[38;5;124m'\u001B[39m, \u001B[38;5;241m4\u001B[39m:\u001B[38;5;124m'\u001B[39m\u001B[38;5;124mApr\u001B[39m\u001B[38;5;124m'\u001B[39m, \u001B[38;5;241m5\u001B[39m:\u001B[38;5;124m'\u001B[39m\u001B[38;5;124mMay\u001B[39m\u001B[38;5;124m'\u001B[39m, \u001B[38;5;241m6\u001B[39m:\u001B[38;5;124m'\u001B[39m\u001B[38;5;124mJun\u001B[39m\u001B[38;5;124m'\u001B[39m, \u001B[38;5;241m7\u001B[39m:\u001B[38;5;124m'\u001B[39m\u001B[38;5;124mJul\u001B[39m\u001B[38;5;124m'\u001B[39m, \u001B[38;5;241m8\u001B[39m:\u001B[38;5;124m'\u001B[39m\u001B[38;5;124mAug\u001B[39m\u001B[38;5;124m'\u001B[39m, \u001B[38;5;241m9\u001B[39m:\u001B[38;5;124m'\u001B[39m\u001B[38;5;124mSep\u001B[39m\u001B[38;5;124m'\u001B[39m, \u001B[38;5;241m10\u001B[39m:\u001B[38;5;124m'\u001B[39m\u001B[38;5;124mOct\u001B[39m\u001B[38;5;124m'\u001B[39m, \u001B[38;5;241m11\u001B[39m:\u001B[38;5;124m'\u001B[39m\u001B[38;5;124mNov\u001B[39m\u001B[38;5;124m'\u001B[39m, \u001B[38;5;241m12\u001B[39m:\u001B[38;5;124m'\u001B[39m\u001B[38;5;124mDec\u001B[39m\u001B[38;5;124m'\u001B[39m}\n\u001B[0;32m      5\u001B[0m pivot_table1\u001B[38;5;241m.\u001B[39mindex \u001B[38;5;241m=\u001B[39m pivot_table1\u001B[38;5;241m.\u001B[39mindex\u001B[38;5;241m.\u001B[39mmap(month_map)\n",
      "\u001B[1;31mNameError\u001B[0m: name 'df' is not defined"
     ]
    }
   ]
  },
  {
   "cell_type": "code",
   "source": [
    "# Calculate average trip duration by month\n",
    "df_avg_duration_by_month = df.groupby(['Pmonth'])['Duration'].mean()\n",
    "\n",
    "# Plot average trip duration by month\n",
    "plt.figure(figsize=(10, 6))\n",
    "plt.plot(df_avg_duration_by_month.index, df_avg_duration_by_month.values,'b-o')\n",
    "plt.xlabel('Month')\n",
    "plt.xticks(range(len(df_avg_duration_by_month.index)+1))\n",
    "plt.ylabel('Average Trip Duration')\n",
    "plt.title('Average Trip Duration by Month')\n",
    "plt.show()"
   ],
   "metadata": {
    "execution": {
     "iopub.status.busy": "2024-03-12T08:26:07.996515Z",
     "iopub.execute_input": "2024-03-12T08:26:07.997145Z",
     "iopub.status.idle": "2024-03-12T08:26:08.584734Z",
     "shell.execute_reply.started": "2024-03-12T08:26:07.997095Z",
     "shell.execute_reply": "2024-03-12T08:26:08.583628Z"
    },
    "trusted": true,
    "ExecuteTime": {
     "start_time": "2024-03-12T08:51:55.419402Z"
    }
   },
   "execution_count": null,
   "outputs": []
  },
  {
   "cell_type": "code",
   "source": [
    "# Calculate average trip duration by day of the month\n",
    "df_avg_duration_by_day_of_month = df.groupby(['Pday'])['Duration'].mean()\n",
    "\n",
    "# Plot average trip duration by day of the month\n",
    "plt.figure(figsize=(10, 6))\n",
    "plt.plot(df_avg_duration_by_day_of_month.index, df_avg_duration_by_day_of_month.values,'g-o')\n",
    "plt.xlabel('Day of Month')\n",
    "plt.xticks(range(len(df_avg_duration_by_day_of_month.index)+1))\n",
    "plt.ylabel('Average Trip Duration')\n",
    "plt.title('Average Trip Duration by Day of Month')\n",
    "plt.show()"
   ],
   "metadata": {
    "execution": {
     "iopub.status.busy": "2024-03-12T08:26:11.969317Z",
     "iopub.execute_input": "2024-03-12T08:26:11.970080Z",
     "iopub.status.idle": "2024-03-12T08:26:12.569791Z",
     "shell.execute_reply.started": "2024-03-12T08:26:11.970038Z",
     "shell.execute_reply": "2024-03-12T08:26:12.568592Z"
    },
    "trusted": true,
    "ExecuteTime": {
     "start_time": "2024-03-12T08:51:55.421861Z"
    }
   },
   "execution_count": null,
   "outputs": []
  },
  {
   "cell_type": "code",
   "source": [
    "# Calculate average trip duration by day of the week\n",
    "df_avg_duration_by_day_of_week = df.groupby(['PDweek'])['Duration'].mean()\n",
    "\n",
    "# Plot average trip duration by day of the week\n",
    "plt.figure(figsize=(10, 6))\n",
    "plt.plot(df_avg_duration_by_day_of_week.index, df_avg_duration_by_day_of_week.values,'r-o')\n",
    "plt.xlabel('Day of Week')\n",
    "plt.xticks(range(len(df_avg_duration_by_day_of_week.index)))\n",
    "plt.ylabel('Average Trip Duration')\n",
    "plt.title('Average Trip Duration by Day of Week')\n",
    "plt.show()"
   ],
   "metadata": {
    "execution": {
     "iopub.status.busy": "2024-03-12T08:26:15.141682Z",
     "iopub.execute_input": "2024-03-12T08:26:15.143250Z",
     "iopub.status.idle": "2024-03-12T08:26:15.695452Z",
     "shell.execute_reply.started": "2024-03-12T08:26:15.143186Z",
     "shell.execute_reply": "2024-03-12T08:26:15.694131Z"
    },
    "trusted": true
   },
   "execution_count": null,
   "outputs": []
  },
  {
   "cell_type": "code",
   "source": [
    "# Calculate average trip duration by hour of the day\n",
    "df_avg_duration_by_hour_of_day = df.groupby(['Phour'])['Duration'].mean()\n",
    "\n",
    "# Plot average trip duration by hour of the day\n",
    "plt.figure(figsize=(10, 6))\n",
    "plt.plot(df_avg_duration_by_hour_of_day.index, df_avg_duration_by_hour_of_day.values,'y-o')\n",
    "plt.xlabel('Hour of Day')\n",
    "plt.xticks(range(len(df_avg_duration_by_hour_of_day.index)))\n",
    "plt.ylabel('Average Trip Duration')\n",
    "plt.title('Average Trip Duration by Hour of Day')\n",
    "plt.show()"
   ],
   "metadata": {
    "execution": {
     "iopub.status.busy": "2024-03-12T08:26:17.934771Z",
     "iopub.execute_input": "2024-03-12T08:26:17.935899Z",
     "iopub.status.idle": "2024-03-12T08:26:18.500195Z",
     "shell.execute_reply.started": "2024-03-12T08:26:17.935856Z",
     "shell.execute_reply": "2024-03-12T08:26:18.499046Z"
    },
    "trusted": true,
    "ExecuteTime": {
     "start_time": "2024-03-12T08:51:55.424990Z"
    }
   },
   "execution_count": null,
   "outputs": []
  },
  {
   "cell_type": "markdown",
   "source": [
    "**Observation:**\n",
    "1. From Total pick ups and Average Trip Duration every months in a year plots\n",
    "- The data shows a clear trend of increased pick-ups during the late summer and early fall months. The highest pick-ups occur in September and October, followed by June, July, and August.\n",
    "- The total pick ups and average trip duration is low in months: noverber, december and january. Since, This is the period of time in which south korea experiences winter season.\n",
    "- the data suggests that the average trip duration is highest in May and September.\n",
    "- due to a combination of factors, including increased congestion, increased tourism, and favorable weather conditions.\n",
    "2. From Average Trip Duration by Day of Week plot, We can observe that the trip duration is higer during weekends.\n",
    "3. From Average Trip Duration by Hour of Day plot, The average trip duration is higer from 15th to 20th hour of a day. Typically after working hours or evening time.\n",
    "\n",
    "__From the above observation we can say that temperature and time are influential factors for the estimation of the trip duration.__"
   ],
   "metadata": {}
  },
  {
   "cell_type": "code",
   "source": [
    "plt.figure(figsize = (25,12))\n",
    "sns.heatmap(df.corr(),annot=True,center=0)\n",
    "plt.title(\"correlation plot\")\n",
    "plt.show()"
   ],
   "metadata": {
    "execution": {
     "iopub.status.busy": "2024-03-12T08:35:33.939054Z",
     "iopub.execute_input": "2024-03-12T08:35:33.939536Z",
     "iopub.status.idle": "2024-03-12T08:35:52.185287Z",
     "shell.execute_reply.started": "2024-03-12T08:35:33.939504Z",
     "shell.execute_reply": "2024-03-12T08:35:52.184359Z"
    },
    "trusted": true,
    "ExecuteTime": {
     "start_time": "2024-03-12T08:51:55.426464Z"
    }
   },
   "execution_count": null,
   "outputs": []
  },
  {
   "cell_type": "markdown",
   "source": [
    "**Observations:**\n",
    "- Plong and Dlong are highly correlated. but they represent the pick up and drop off longitudes.\n",
    "- Platd and Dlatd are highly correlated. but they represent the pick up and drop off lattitudes.\n",
    "- Temp and GroundTemp are highly correlated, and Temp has more correlation with Duration (target data) when compared with GroundTemp."
   ],
   "metadata": {}
  },
  {
   "cell_type": "markdown",
   "source": [
    "___"
   ],
   "metadata": {}
  }
 ]
}
